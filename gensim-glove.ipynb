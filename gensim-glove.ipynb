{
 "cells": [
  {
   "cell_type": "code",
   "execution_count": null,
   "metadata": {},
   "outputs": [],
   "source": [
    "import gensim.downloader\n",
    "\n",
    "# Load the GloVe model\n"
   ]
  },
  {
   "cell_type": "code",
   "execution_count": null,
   "metadata": {},
   "outputs": [],
   "source": [
    "glove_model = gensim.downloader.load('glove-wiki-gigaword-300')\n",
    "\n"
   ]
  },
  {
   "cell_type": "code",
   "execution_count": null,
   "metadata": {},
   "outputs": [],
   "source": [
    "# Function to recommend similar words\n",
    "def recommend_similar_words(word, topn=5):\n",
    "    try:\n",
    "        similar_words = glove_model.most_similar(word, topn=10)\n",
    "        return similar_words\n",
    "    except KeyError:\n",
    "        return f\"'{word}' is not in the vocabulary.\"\n",
    "\n",
    "# Example usage\n",
    "word = 'car'\n",
    "similar_words = recommend_similar_words(word)\n",
    "print(f\"Words similar to '{word}':\")\n",
    "for w, sim in similar_words:\n",
    "    print(f\"{w}: {sim}\")"
   ]
  },
  {
   "cell_type": "code",
   "execution_count": null,
   "metadata": {},
   "outputs": [],
   "source": []
  }
 ],
 "metadata": {
  "kernelspec": {
   "display_name": "Python 3",
   "language": "python",
   "name": "python3"
  },
  "language_info": {
   "codemirror_mode": {
    "name": "ipython",
    "version": 3
   },
   "file_extension": ".py",
   "mimetype": "text/x-python",
   "name": "python",
   "nbconvert_exporter": "python",
   "pygments_lexer": "ipython3",
   "version": "3.8.10"
  }
 },
 "nbformat": 4,
 "nbformat_minor": 2
}
