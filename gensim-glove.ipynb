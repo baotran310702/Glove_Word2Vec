{
 "cells": [
  {
   "cell_type": "code",
   "execution_count": 2,
   "metadata": {},
   "outputs": [],
   "source": [
    "import gensim.downloader\n",
    "\n",
    "# Load the GloVe model\n"
   ]
  },
  {
   "cell_type": "code",
   "execution_count": 7,
   "metadata": {},
   "outputs": [],
   "source": [
    "glove_model = gensim.downloader.load('glove-wiki-gigaword-300')\n",
    "\n"
   ]
  },
  {
   "cell_type": "code",
   "execution_count": 12,
   "metadata": {},
   "outputs": [],
   "source": [
    "#Save model for next use\n",
    "glove_model.save(\"glove-wiki-gigaword-300.model\")"
   ]
  },
  {
   "cell_type": "code",
   "execution_count": 13,
   "metadata": {},
   "outputs": [],
   "source": [
    "#Load the saved model and use it\n",
    "glove_model = gensim.models.KeyedVectors.load(\"glove-wiki-gigaword-300.model\")\n"
   ]
  },
  {
   "cell_type": "code",
   "execution_count": 14,
   "metadata": {},
   "outputs": [
    {
     "name": "stdout",
     "output_type": "stream",
     "text": [
      "Words similar to 'car':\n",
      "cars: 0.7827162146568298\n",
      "vehicle: 0.7655367851257324\n",
      "truck: 0.7350621223449707\n",
      "driver: 0.7114784717559814\n",
      "driving: 0.6442225575447083\n",
      "vehicles: 0.6328004598617554\n",
      "motorcycle: 0.6022512912750244\n",
      "automobile: 0.5955728888511658\n",
      "parked: 0.5910030007362366\n",
      "drivers: 0.5778359770774841\n",
      "suv: 0.5739067196846008\n",
      "bus: 0.5653250217437744\n",
      "mercedes: 0.5586283802986145\n",
      "auto: 0.5572720170021057\n",
      "drove: 0.5511451959609985\n"
     ]
    }
   ],
   "source": [
    "# Function to recommend similar words\n",
    "def recommend_similar_words(word, topn=5):\n",
    "    try:\n",
    "        similar_words = glove_model.most_similar(word, topn=15)\n",
    "     \n",
    "        return similar_words\n",
    "    except KeyError:\n",
    "        return f\"'{word}' is not in the vocabulary.\"\n",
    "\n",
    "# Example usage\n",
    "word = 'car'\n",
    "similar_words = recommend_similar_words(word)\n",
    "print(f\"Words similar to '{word}':\")\n",
    "for w, sim in similar_words:\n",
    "    print(f\"{w}: {sim}\")"
   ]
  },
  {
   "cell_type": "code",
   "execution_count": 5,
   "metadata": {},
   "outputs": [],
   "source": []
  },
  {
   "cell_type": "code",
   "execution_count": null,
   "metadata": {},
   "outputs": [],
   "source": []
  }
 ],
 "metadata": {
  "kernelspec": {
   "display_name": "Python 3",
   "language": "python",
   "name": "python3"
  },
  "language_info": {
   "codemirror_mode": {
    "name": "ipython",
    "version": 3
   },
   "file_extension": ".py",
   "mimetype": "text/x-python",
   "name": "python",
   "nbconvert_exporter": "python",
   "pygments_lexer": "ipython3",
   "version": "3.8.10"
  }
 },
 "nbformat": 4,
 "nbformat_minor": 2
}
